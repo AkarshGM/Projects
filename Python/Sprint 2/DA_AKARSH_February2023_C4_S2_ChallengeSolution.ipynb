{
 "cells": [
  {
   "cell_type": "markdown",
   "id": "ac3c48ac",
   "metadata": {},
   "source": [
    "## Used Cars Sale Analysis"
   ]
  },
  {
   "cell_type": "code",
   "execution_count": 1,
   "id": "b211629d",
   "metadata": {},
   "outputs": [],
   "source": [
    "import numpy as np\n",
    "\n",
    "import pandas as pd\n",
    "\n",
    "import warnings\n",
    "warnings.filterwarnings('ignore')"
   ]
  },
  {
   "cell_type": "code",
   "execution_count": null,
   "id": "9df1331f",
   "metadata": {},
   "outputs": [],
   "source": []
  },
  {
   "cell_type": "code",
   "execution_count": 27,
   "id": "952e341a",
   "metadata": {},
   "outputs": [
    {
     "data": {
      "text/plain": [
       "101    80121\n",
       "102    48483\n",
       "103    37077\n",
       "104    30660\n",
       "105    68536\n",
       "106    52666\n",
       "107    78703\n",
       "108    51036\n",
       "109    55643\n",
       "110    56990\n",
       "111    39967\n",
       "112    93822\n",
       "113    51406\n",
       "114    93947\n",
       "115    78373\n",
       "116    62765\n",
       "117    47536\n",
       "118    40528\n",
       "119    58780\n",
       "120    83197\n",
       "dtype: int64"
      ]
     },
     "execution_count": 27,
     "metadata": {},
     "output_type": "execute_result"
    }
   ],
   "source": [
    "# Task 1\n",
    "\n",
    "price = [80121, 48483, 37077, 30660, 68536, 52666, 78703, 51036, 55643, 56990, 39967, 93822, 51406, 93947, 78373, 62765, 47536, 40528, 58780, 83197]\n",
    "index = range(101,121)\n",
    "car_price = pd.Series(price, index = index)\n",
    "car_price\n",
    "\n"
   ]
  },
  {
   "cell_type": "code",
   "execution_count": null,
   "id": "cf3d0911",
   "metadata": {},
   "outputs": [],
   "source": []
  },
  {
   "cell_type": "code",
   "execution_count": 40,
   "id": "47fd41d9",
   "metadata": {},
   "outputs": [
    {
     "name": "stdout",
     "output_type": "stream",
     "text": [
      "Highest price car: index=114, Price=93947\n",
      "Lowest price car: index=104, Price=30660\n"
     ]
    }
   ],
   "source": [
    "# Task 2\n",
    "\n",
    "max_indx = car_price.idxmax()\n",
    "min_indx = car_price.idxmin()\n",
    "\n",
    "max_price = car_price[max_indx]\n",
    "min_price = car_price[min_indx]\n",
    "\n",
    "print(\"Highest price car: index={}, Price={}\".format(max_indx, max_price))\n",
    "print(\"Lowest price car: index={}, Price={}\".format(min_indx, min_price))"
   ]
  },
  {
   "cell_type": "code",
   "execution_count": null,
   "id": "57eca208",
   "metadata": {},
   "outputs": [],
   "source": []
  },
  {
   "cell_type": "code",
   "execution_count": 49,
   "id": "a7c31b27",
   "metadata": {},
   "outputs": [
    {
     "name": "stdout",
     "output_type": "stream",
     "text": [
      "Top 5 cars with highest value are:\n",
      " 114    93947\n",
      "112    93822\n",
      "120    83197\n",
      "101    80121\n",
      "107    78703\n",
      "dtype: int64\n"
     ]
    }
   ],
   "source": [
    "# Task 3\n",
    "\n",
    "desc = car_price.sort_values(ascending = False)\n",
    "\n",
    "print(\"Top 5 cars with highest value are:\\n\", desc.head())"
   ]
  },
  {
   "cell_type": "code",
   "execution_count": null,
   "id": "b8ca47ca",
   "metadata": {},
   "outputs": [],
   "source": []
  },
  {
   "cell_type": "code",
   "execution_count": 53,
   "id": "099a1fdb",
   "metadata": {},
   "outputs": [
    {
     "name": "stdout",
     "output_type": "stream",
     "text": [
      "Cars priced between 30000 and 40000 are:\n",
      " 103    37077\n",
      "104    30660\n",
      "111    39967\n",
      "dtype: int64\n"
     ]
    }
   ],
   "source": [
    "# Task 4\n",
    "\n",
    "price_range = car_price[(car_price>30000) & (car_price<40000)]\n",
    "print(\"Cars priced between 30000 and 40000 are:\\n\", price_range)"
   ]
  },
  {
   "cell_type": "code",
   "execution_count": null,
   "id": "65ad5aa4",
   "metadata": {},
   "outputs": [],
   "source": []
  },
  {
   "cell_type": "code",
   "execution_count": 67,
   "id": "bca24211",
   "metadata": {},
   "outputs": [
    {
     "name": "stdout",
     "output_type": "stream",
     "text": [
      "Cars priced above the average price of 60511.8 are:\n",
      " 101    80121\n",
      "105    68536\n",
      "107    78703\n",
      "112    93822\n",
      "114    93947\n",
      "115    78373\n",
      "116    62765\n",
      "120    83197\n",
      "dtype: int64\n"
     ]
    }
   ],
   "source": [
    "# Task 5\n",
    "\n",
    "avg = car_price.mean()\n",
    "\n",
    "above_avg_cars = car_price[car_price> avg]\n",
    "print(\"Cars priced above the average price of\", avg, \"are:\\n\" ,above_avg_cars)"
   ]
  },
  {
   "cell_type": "code",
   "execution_count": null,
   "id": "3a50ea63",
   "metadata": {},
   "outputs": [],
   "source": []
  },
  {
   "cell_type": "code",
   "execution_count": 76,
   "id": "d8c1cabf",
   "metadata": {},
   "outputs": [
    {
     "name": "stdout",
     "output_type": "stream",
     "text": [
      "New cars list after adding three cars is:\n",
      " 101    80121\n",
      "102    48483\n",
      "103    37077\n",
      "104    30660\n",
      "105    68536\n",
      "106    52666\n",
      "107    78703\n",
      "108    51036\n",
      "109    55643\n",
      "110    56990\n",
      "111    39967\n",
      "112    93822\n",
      "113    51406\n",
      "114    93947\n",
      "115    78373\n",
      "116    62765\n",
      "117    47536\n",
      "118    40528\n",
      "119    58780\n",
      "120    83197\n",
      "201    34000\n",
      "202    45000\n",
      "203    54000\n",
      "dtype: int64\n"
     ]
    }
   ],
   "source": [
    "# Task 6\n",
    "\n",
    "new_list = pd.Series([34000, 45000,54000], index= [201,202,203])\n",
    "\n",
    "updated_list =pd.concat([car_price, new_list])\n",
    "print(\"New cars list after adding three cars is:\\n\",updated_list)"
   ]
  },
  {
   "cell_type": "code",
   "execution_count": null,
   "id": "9bb5ea94",
   "metadata": {},
   "outputs": [],
   "source": []
  },
  {
   "cell_type": "code",
   "execution_count": 97,
   "id": "dd0419b7",
   "metadata": {},
   "outputs": [
    {
     "name": "stdout",
     "output_type": "stream",
     "text": [
      "Cars above 60000 BEFORE discount:\n",
      " 101    80121\n",
      "105    68536\n",
      "107    78703\n",
      "112    93822\n",
      "114    93947\n",
      "115    78373\n",
      "116    62765\n",
      "120    83197\n",
      "dtype: int64\n",
      "\n",
      "Cars above 60000 AFTER 20% discount:\n",
      " 101    64096.8\n",
      "105    54828.8\n",
      "107    62962.4\n",
      "112    75057.6\n",
      "114    75157.6\n",
      "115    62698.4\n",
      "116    50212.0\n",
      "120    66557.6\n",
      "dtype: float64\n"
     ]
    }
   ],
   "source": [
    "# Task 7\n",
    "\n",
    "price_above_60k = updated_list[updated_list>60000]\n",
    "print(\"Cars above 60000 BEFORE discount:\\n\", price_above_60k)\n",
    "# 20% discount on car prices above 60000\n",
    "\n",
    "discounted_price = price_above_60k * 0.8\n",
    "\n",
    "print(\"\\nCars above 60000 AFTER 20% discount:\\n\",discounted_price)\n",
    "\n"
   ]
  },
  {
   "cell_type": "code",
   "execution_count": 117,
   "id": "01cbdcd5",
   "metadata": {},
   "outputs": [
    {
     "data": {
      "text/html": [
       "<div>\n",
       "<style scoped>\n",
       "    .dataframe tbody tr th:only-of-type {\n",
       "        vertical-align: middle;\n",
       "    }\n",
       "\n",
       "    .dataframe tbody tr th {\n",
       "        vertical-align: top;\n",
       "    }\n",
       "\n",
       "    .dataframe thead th {\n",
       "        text-align: right;\n",
       "    }\n",
       "</style>\n",
       "<table border=\"1\" class=\"dataframe\">\n",
       "  <thead>\n",
       "    <tr style=\"text-align: right;\">\n",
       "      <th></th>\n",
       "      <th>Original Price</th>\n",
       "      <th>Discounted Price</th>\n",
       "    </tr>\n",
       "  </thead>\n",
       "  <tbody>\n",
       "    <tr>\n",
       "      <th>101</th>\n",
       "      <td>80121</td>\n",
       "      <td>64096.8</td>\n",
       "    </tr>\n",
       "    <tr>\n",
       "      <th>105</th>\n",
       "      <td>68536</td>\n",
       "      <td>54828.8</td>\n",
       "    </tr>\n",
       "    <tr>\n",
       "      <th>107</th>\n",
       "      <td>78703</td>\n",
       "      <td>62962.4</td>\n",
       "    </tr>\n",
       "    <tr>\n",
       "      <th>112</th>\n",
       "      <td>93822</td>\n",
       "      <td>75057.6</td>\n",
       "    </tr>\n",
       "    <tr>\n",
       "      <th>114</th>\n",
       "      <td>93947</td>\n",
       "      <td>75157.6</td>\n",
       "    </tr>\n",
       "    <tr>\n",
       "      <th>115</th>\n",
       "      <td>78373</td>\n",
       "      <td>62698.4</td>\n",
       "    </tr>\n",
       "    <tr>\n",
       "      <th>116</th>\n",
       "      <td>62765</td>\n",
       "      <td>50212.0</td>\n",
       "    </tr>\n",
       "    <tr>\n",
       "      <th>120</th>\n",
       "      <td>83197</td>\n",
       "      <td>66557.6</td>\n",
       "    </tr>\n",
       "  </tbody>\n",
       "</table>\n",
       "</div>"
      ],
      "text/plain": [
       "     Original Price  Discounted Price\n",
       "101           80121           64096.8\n",
       "105           68536           54828.8\n",
       "107           78703           62962.4\n",
       "112           93822           75057.6\n",
       "114           93947           75157.6\n",
       "115           78373           62698.4\n",
       "116           62765           50212.0\n",
       "120           83197           66557.6"
      ]
     },
     "execution_count": 117,
     "metadata": {},
     "output_type": "execute_result"
    }
   ],
   "source": [
    "# Visual representation of Original price and Discounted price\n",
    "\n",
    "a = {'Original Price': price_above_60k, 'Discounted Price': discounted_price}\n",
    "b = pd.DataFrame(a) \n",
    "b"
   ]
  },
  {
   "cell_type": "code",
   "execution_count": 121,
   "id": "6a524e00",
   "metadata": {},
   "outputs": [
    {
     "name": "stdout",
     "output_type": "stream",
     "text": [
      "New list after removing all discounted cars as they are sold out:\n",
      "\n",
      " 102    48483\n",
      "103    37077\n",
      "104    30660\n",
      "106    52666\n",
      "108    51036\n",
      "109    55643\n",
      "110    56990\n",
      "111    39967\n",
      "113    51406\n",
      "117    47536\n",
      "118    40528\n",
      "119    58780\n",
      "201    34000\n",
      "202    45000\n",
      "203    54000\n",
      "dtype: int64\n",
      "\n",
      "Total count of all the cars available before the sale are: 23\n",
      "Total count of all remaining cars after the sale are: 15\n"
     ]
    }
   ],
   "source": [
    "# Task 8\n",
    "\n",
    "# Take backup of the list before deleting data \n",
    "backup = updated_list.copy()\n",
    "\n",
    "#Delete from backup list\n",
    "final_list = backup.drop(labels = discounted_price.index)\n",
    "print(\"New list after removing all discounted cars as they are sold out:\\n\\n\", final_list)\n",
    "\n",
    "\n",
    "print(\"\\nTotal count of all the cars available before the sale are:\", updated_list.size)\n",
    "print(\"Total count of all remaining cars after the sale are:\", final_list.size)"
   ]
  },
  {
   "cell_type": "code",
   "execution_count": null,
   "id": "c1124856",
   "metadata": {},
   "outputs": [],
   "source": []
  },
  {
   "cell_type": "code",
   "execution_count": null,
   "id": "4d9c0ffd",
   "metadata": {},
   "outputs": [],
   "source": []
  }
 ],
 "metadata": {
  "kernelspec": {
   "display_name": "Python 3 (ipykernel)",
   "language": "python",
   "name": "python3"
  },
  "language_info": {
   "codemirror_mode": {
    "name": "ipython",
    "version": 3
   },
   "file_extension": ".py",
   "mimetype": "text/x-python",
   "name": "python",
   "nbconvert_exporter": "python",
   "pygments_lexer": "ipython3",
   "version": "3.9.13"
  }
 },
 "nbformat": 4,
 "nbformat_minor": 5
}
