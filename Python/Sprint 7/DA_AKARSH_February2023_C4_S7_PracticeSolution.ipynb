{
 "cells": [
  {
   "cell_type": "markdown",
   "id": "9c6b5e57",
   "metadata": {},
   "source": [
    "## Score Analysis"
   ]
  },
  {
   "cell_type": "code",
   "execution_count": 23,
   "id": "7242f993",
   "metadata": {},
   "outputs": [],
   "source": [
    "import pandas as pd \n",
    "import statistics as st\n",
    "import numpy as np\n",
    "import matplotlib.pyplot as plt"
   ]
  },
  {
   "cell_type": "code",
   "execution_count": 2,
   "id": "3e826f69",
   "metadata": {},
   "outputs": [
    {
     "data": {
      "text/html": [
       "<div>\n",
       "<style scoped>\n",
       "    .dataframe tbody tr th:only-of-type {\n",
       "        vertical-align: middle;\n",
       "    }\n",
       "\n",
       "    .dataframe tbody tr th {\n",
       "        vertical-align: top;\n",
       "    }\n",
       "\n",
       "    .dataframe thead th {\n",
       "        text-align: right;\n",
       "    }\n",
       "</style>\n",
       "<table border=\"1\" class=\"dataframe\">\n",
       "  <thead>\n",
       "    <tr style=\"text-align: right;\">\n",
       "      <th></th>\n",
       "      <th>Statistics</th>\n",
       "      <th>Python</th>\n",
       "      <th>Tableau</th>\n",
       "    </tr>\n",
       "  </thead>\n",
       "  <tbody>\n",
       "    <tr>\n",
       "      <th>0</th>\n",
       "      <td>61</td>\n",
       "      <td>86</td>\n",
       "      <td>66</td>\n",
       "    </tr>\n",
       "    <tr>\n",
       "      <th>1</th>\n",
       "      <td>54</td>\n",
       "      <td>86</td>\n",
       "      <td>72</td>\n",
       "    </tr>\n",
       "    <tr>\n",
       "      <th>2</th>\n",
       "      <td>56</td>\n",
       "      <td>80</td>\n",
       "      <td>78</td>\n",
       "    </tr>\n",
       "    <tr>\n",
       "      <th>3</th>\n",
       "      <td>54</td>\n",
       "      <td>85</td>\n",
       "      <td>45</td>\n",
       "    </tr>\n",
       "    <tr>\n",
       "      <th>4</th>\n",
       "      <td>53</td>\n",
       "      <td>84</td>\n",
       "      <td>68</td>\n",
       "    </tr>\n",
       "    <tr>\n",
       "      <th>...</th>\n",
       "      <td>...</td>\n",
       "      <td>...</td>\n",
       "      <td>...</td>\n",
       "    </tr>\n",
       "    <tr>\n",
       "      <th>95</th>\n",
       "      <td>60</td>\n",
       "      <td>76</td>\n",
       "      <td>64</td>\n",
       "    </tr>\n",
       "    <tr>\n",
       "      <th>96</th>\n",
       "      <td>59</td>\n",
       "      <td>89</td>\n",
       "      <td>70</td>\n",
       "    </tr>\n",
       "    <tr>\n",
       "      <th>97</th>\n",
       "      <td>62</td>\n",
       "      <td>80</td>\n",
       "      <td>46</td>\n",
       "    </tr>\n",
       "    <tr>\n",
       "      <th>98</th>\n",
       "      <td>58</td>\n",
       "      <td>89</td>\n",
       "      <td>74</td>\n",
       "    </tr>\n",
       "    <tr>\n",
       "      <th>99</th>\n",
       "      <td>67</td>\n",
       "      <td>77</td>\n",
       "      <td>70</td>\n",
       "    </tr>\n",
       "  </tbody>\n",
       "</table>\n",
       "<p>100 rows × 3 columns</p>\n",
       "</div>"
      ],
      "text/plain": [
       "    Statistics  Python  Tableau\n",
       "0           61      86       66\n",
       "1           54      86       72\n",
       "2           56      80       78\n",
       "3           54      85       45\n",
       "4           53      84       68\n",
       "..         ...     ...      ...\n",
       "95          60      76       64\n",
       "96          59      89       70\n",
       "97          62      80       46\n",
       "98          58      89       74\n",
       "99          67      77       70\n",
       "\n",
       "[100 rows x 3 columns]"
      ]
     },
     "execution_count": 2,
     "metadata": {},
     "output_type": "execute_result"
    }
   ],
   "source": [
    "data = pd.read_csv('DS1_C4_S7_Students_Scores_Data_Practice.csv')\n",
    "\n",
    "df = pd.DataFrame(data)\n",
    "df"
   ]
  },
  {
   "cell_type": "code",
   "execution_count": 55,
   "id": "9511f485",
   "metadata": {},
   "outputs": [
    {
     "data": {
      "text/html": [
       "<div>\n",
       "<style scoped>\n",
       "    .dataframe tbody tr th:only-of-type {\n",
       "        vertical-align: middle;\n",
       "    }\n",
       "\n",
       "    .dataframe tbody tr th {\n",
       "        vertical-align: top;\n",
       "    }\n",
       "\n",
       "    .dataframe thead th {\n",
       "        text-align: right;\n",
       "    }\n",
       "</style>\n",
       "<table border=\"1\" class=\"dataframe\">\n",
       "  <thead>\n",
       "    <tr style=\"text-align: right;\">\n",
       "      <th></th>\n",
       "      <th>Measures</th>\n",
       "      <th>Statistics</th>\n",
       "      <th>Python</th>\n",
       "      <th>Tableau</th>\n",
       "    </tr>\n",
       "  </thead>\n",
       "  <tbody>\n",
       "    <tr>\n",
       "      <th>0</th>\n",
       "      <td>Mean</td>\n",
       "      <td>60.89</td>\n",
       "      <td>81.84</td>\n",
       "      <td>68.02</td>\n",
       "    </tr>\n",
       "    <tr>\n",
       "      <th>1</th>\n",
       "      <td>Median</td>\n",
       "      <td>60.00</td>\n",
       "      <td>82.00</td>\n",
       "      <td>69.00</td>\n",
       "    </tr>\n",
       "    <tr>\n",
       "      <th>2</th>\n",
       "      <td>Mode</td>\n",
       "      <td>55.00</td>\n",
       "      <td>86.00</td>\n",
       "      <td>65.00</td>\n",
       "    </tr>\n",
       "  </tbody>\n",
       "</table>\n",
       "</div>"
      ],
      "text/plain": [
       "  Measures  Statistics  Python  Tableau\n",
       "0     Mean       60.89   81.84    68.02\n",
       "1   Median       60.00   82.00    69.00\n",
       "2     Mode       55.00   86.00    65.00"
      ]
     },
     "execution_count": 55,
     "metadata": {},
     "output_type": "execute_result"
    }
   ],
   "source": [
    "# Task 1 \n",
    "\n",
    "# Declaring three list to store calculted mean, median and mode\n",
    "Mean = []\n",
    "Median = []\n",
    "Mode = []\n",
    "\n",
    "#Iterating each column of DataFrame \n",
    "for col in df:\n",
    "    Mean.append(df.loc[:, col].mean())\n",
    "    Median.append(df.loc[:, col].median())\n",
    "    Mode.append(st.mode(df[col]))\n",
    "\n",
    "row_head = ['Mean', 'Median', 'Mode']\n",
    "col_head = ['Statistics', 'Python', 'Tableau']\n",
    "\n",
    "# create a new data frame \n",
    "d_data = pd.DataFrame([Mean, Median, Mode], columns = col_head)\n",
    "\n",
    "# Inserting a new column 'Measures' at the beginning of the data frame with 3 measures\n",
    "d_data.insert(0, \"Measures\", row_head, True)\n",
    "\n",
    "d_data"
   ]
  },
  {
   "cell_type": "markdown",
   "id": "c9d2dad4",
   "metadata": {},
   "source": [
    "## Interpretation: \n",
    " Students have performed best in Python subject as it has the highest average score.\n"
   ]
  },
  {
   "cell_type": "code",
   "execution_count": null,
   "id": "1f30153e",
   "metadata": {},
   "outputs": [],
   "source": []
  },
  {
   "cell_type": "code",
   "execution_count": 54,
   "id": "31d2c86a",
   "metadata": {},
   "outputs": [
    {
     "data": {
      "text/html": [
       "<div>\n",
       "<style scoped>\n",
       "    .dataframe tbody tr th:only-of-type {\n",
       "        vertical-align: middle;\n",
       "    }\n",
       "\n",
       "    .dataframe tbody tr th {\n",
       "        vertical-align: top;\n",
       "    }\n",
       "\n",
       "    .dataframe thead th {\n",
       "        text-align: right;\n",
       "    }\n",
       "</style>\n",
       "<table border=\"1\" class=\"dataframe\">\n",
       "  <thead>\n",
       "    <tr style=\"text-align: right;\">\n",
       "      <th></th>\n",
       "      <th>Measures</th>\n",
       "      <th>Statistics</th>\n",
       "      <th>Python</th>\n",
       "      <th>Tableau</th>\n",
       "    </tr>\n",
       "  </thead>\n",
       "  <tbody>\n",
       "    <tr>\n",
       "      <th>0</th>\n",
       "      <td>Mean</td>\n",
       "      <td>60.890000</td>\n",
       "      <td>81.840000</td>\n",
       "      <td>68.020000</td>\n",
       "    </tr>\n",
       "    <tr>\n",
       "      <th>1</th>\n",
       "      <td>Variance</td>\n",
       "      <td>52.361515</td>\n",
       "      <td>18.883232</td>\n",
       "      <td>53.595556</td>\n",
       "    </tr>\n",
       "    <tr>\n",
       "      <th>2</th>\n",
       "      <td>Coefficient of Variation</td>\n",
       "      <td>11.883931</td>\n",
       "      <td>5.309731</td>\n",
       "      <td>10.762862</td>\n",
       "    </tr>\n",
       "  </tbody>\n",
       "</table>\n",
       "</div>"
      ],
      "text/plain": [
       "                   Measures  Statistics     Python    Tableau\n",
       "0                      Mean   60.890000  81.840000  68.020000\n",
       "1                  Variance   52.361515  18.883232  53.595556\n",
       "2  Coefficient of Variation   11.883931   5.309731  10.762862"
      ]
     },
     "execution_count": 54,
     "metadata": {},
     "output_type": "execute_result"
    }
   ],
   "source": [
    "# Task 2\n",
    "\n",
    "# Declaring three list to store calculted mean, median and mode\n",
    "Mean = []\n",
    "Var = []\n",
    "CV = []\n",
    "\n",
    "#Iterating each column of DataFrame \n",
    "for col in df:\n",
    "    col_mean = df.loc[:, col].mean()\n",
    "    Mean.append(col_mean)\n",
    "    col_sd = df.loc[:, col].std()\n",
    "    CV.append(col_sd/col_mean*100)\n",
    "    Var.append(st.variance(df.loc[:, col]))\n",
    "\n",
    "row_head = ['Mean', 'Variance', 'Coefficient of Variation']\n",
    "col_head = ['Statistics', 'Python', 'Tableau']\n",
    "\n",
    "# create a new data frame \n",
    "school = pd.DataFrame([Mean, Var, CV], columns = col_head)\n",
    "\n",
    "# Inserting a new column 'Measures' at the beginning of the data frame with 3 measures\n",
    "school.insert(0, \"Measures\", row_head, True)\n",
    "\n",
    "school\n",
    "\n"
   ]
  },
  {
   "cell_type": "markdown",
   "id": "7fca945b",
   "metadata": {},
   "source": [
    "## Interpretation:\n",
    "   1. Statistics subject shows the best performance of the class\n",
    "   2. Variance of statistics is closer to the mean which means that the data/marks is less spread out.\n",
    "   3. Python subject has more spread of data as variance is far away from mean which means that there are students who\n",
    "      scored very low marks and very high marks as well. "
   ]
  },
  {
   "cell_type": "code",
   "execution_count": null,
   "id": "5b3f7211",
   "metadata": {},
   "outputs": [],
   "source": []
  },
  {
   "cell_type": "code",
   "execution_count": 56,
   "id": "d6b9e8e3",
   "metadata": {},
   "outputs": [
    {
     "data": {
      "text/html": [
       "<div>\n",
       "<style scoped>\n",
       "    .dataframe tbody tr th:only-of-type {\n",
       "        vertical-align: middle;\n",
       "    }\n",
       "\n",
       "    .dataframe tbody tr th {\n",
       "        vertical-align: top;\n",
       "    }\n",
       "\n",
       "    .dataframe thead th {\n",
       "        text-align: right;\n",
       "    }\n",
       "</style>\n",
       "<table border=\"1\" class=\"dataframe\">\n",
       "  <thead>\n",
       "    <tr style=\"text-align: right;\">\n",
       "      <th></th>\n",
       "      <th>Company</th>\n",
       "      <th>Min</th>\n",
       "      <th>Max</th>\n",
       "      <th>Range</th>\n",
       "      <th>Q1</th>\n",
       "      <th>Q3</th>\n",
       "      <th>IQR</th>\n",
       "      <th>Lower fence</th>\n",
       "      <th>Upper fence</th>\n",
       "      <th>Outlier</th>\n",
       "    </tr>\n",
       "  </thead>\n",
       "  <tbody>\n",
       "    <tr>\n",
       "      <th>0</th>\n",
       "      <td>Statistics</td>\n",
       "      <td>50</td>\n",
       "      <td>74</td>\n",
       "      <td>24</td>\n",
       "      <td>54.0</td>\n",
       "      <td>67.00</td>\n",
       "      <td>13.00</td>\n",
       "      <td>34.500</td>\n",
       "      <td>86.500</td>\n",
       "      <td>[[], []]</td>\n",
       "    </tr>\n",
       "    <tr>\n",
       "      <th>1</th>\n",
       "      <td>Python</td>\n",
       "      <td>75</td>\n",
       "      <td>89</td>\n",
       "      <td>14</td>\n",
       "      <td>78.0</td>\n",
       "      <td>86.00</td>\n",
       "      <td>8.00</td>\n",
       "      <td>66.000</td>\n",
       "      <td>98.000</td>\n",
       "      <td>[[], []]</td>\n",
       "    </tr>\n",
       "    <tr>\n",
       "      <th>2</th>\n",
       "      <td>Tableau</td>\n",
       "      <td>45</td>\n",
       "      <td>79</td>\n",
       "      <td>34</td>\n",
       "      <td>64.0</td>\n",
       "      <td>73.25</td>\n",
       "      <td>9.25</td>\n",
       "      <td>50.125</td>\n",
       "      <td>87.125</td>\n",
       "      <td>[[45, 50, 50, 50, 46, 46], []]</td>\n",
       "    </tr>\n",
       "  </tbody>\n",
       "</table>\n",
       "</div>"
      ],
      "text/plain": [
       "      Company  Min  Max  Range    Q1     Q3    IQR  Lower fence  Upper fence  \\\n",
       "0  Statistics   50   74     24  54.0  67.00  13.00       34.500       86.500   \n",
       "1      Python   75   89     14  78.0  86.00   8.00       66.000       98.000   \n",
       "2     Tableau   45   79     34  64.0  73.25   9.25       50.125       87.125   \n",
       "\n",
       "                          Outlier  \n",
       "0                        [[], []]  \n",
       "1                        [[], []]  \n",
       "2  [[45, 50, 50, 50, 46, 46], []]  "
      ]
     },
     "execution_count": 56,
     "metadata": {},
     "output_type": "execute_result"
    }
   ],
   "source": [
    "# Task 3\n",
    "\n",
    "for sub in df:\n",
    "    LO= []# lower outliers \n",
    "    UO= []# upper outliers\n",
    "    subject = pd.Series(df[sub])\n",
    "    \n",
    "    Min = min(subject)\n",
    "    Max = max(subject)\n",
    "    Range = Max-Min\n",
    "    \n",
    "    Q1 = subject.quantile(0.25)\n",
    "    Q3 = subject.quantile(0.75)\n",
    "    IQR = Q3 - Q1\n",
    "    UF = Q3 +1.5*IQR\n",
    "    LF = Q1 -1.5*IQR\n",
    "    \n",
    "    for i in df[sub]:\n",
    "        if (i<LF):\n",
    "            LO.append(i)\n",
    "        elif (i>UF):\n",
    "            UO.append(i)\n",
    "    \n",
    "    if (sub == 'Statistics'):\n",
    "        Statistics = ['Statistics', Min, Max, Range, Q1, Q3, IQR, LF, UF, [LO, UO]]\n",
    "    elif (sub == 'Python'):\n",
    "        Python = ['Python', Min, Max, Range, Q1, Q3, IQR, LF, UF, [LO, UO]]\n",
    "    else:\n",
    "        Tableau = ['Tableau', Min, Max, Range, Q1, Q3, IQR, LF, UF, [LO, UO]]\n",
    "col_names = ['Company', 'Min', 'Max', 'Range', 'Q1', 'Q3','IQR', 'Lower fence', 'Upper fence', 'Outlier' ] \n",
    "\n",
    "subj = pd.DataFrame([Statistics, Python, Tableau], columns = col_names )\n",
    "\n",
    "subj  "
   ]
  },
  {
   "cell_type": "code",
   "execution_count": 37,
   "id": "9790dd3c",
   "metadata": {
    "scrolled": false
   },
   "outputs": [
    {
     "data": {
      "image/png": "[encoded data removed]",
      "text/plain": [
       "<Figure size 800x550 with 1 Axes>"
      ]
     },
     "metadata": {},
     "output_type": "display_data"
    }
   ],
   "source": [
    "df['Tableau'].plot.hist()\n",
    "plt.show()"
   ]
  },
  {
   "cell_type": "markdown",
   "id": "b81cfb8a",
   "metadata": {},
   "source": [
    "## Interpretation:\n",
    "    1. Tableau subject has Lower outliers.\n",
    "    2. Tableau marks are left skewed as shown in graph."
   ]
  },
  {
   "cell_type": "code",
   "execution_count": null,
   "id": "6e783211",
   "metadata": {},
   "outputs": [],
   "source": []
  },
  {
   "cell_type": "code",
   "execution_count": 46,
   "id": "f607f166",
   "metadata": {},
   "outputs": [],
   "source": [
    "# Task 4\n",
    "\n",
    "#Separting each company's salary in different list\n",
    "\n",
    "stat_data = df['Statistics'].tolist()\n",
    "python_data = df['Python'].tolist()\n",
    "tab_data = df['Tableau'].tolist()"
   ]
  },
  {
   "cell_type": "code",
   "execution_count": 48,
   "id": "57db096f",
   "metadata": {},
   "outputs": [
    {
     "data": {
      "image/png": "[encoded data removed]",
      "text/plain": [
       "<Figure size 600x500 with 1 Axes>"
      ]
     },
     "metadata": {},
     "output_type": "display_data"
    }
   ],
   "source": [
    "#Creating boxplots of 3 groups of scores\n",
    "fig = plt.figure(figsize= (6,5))\n",
    "# Creating axes instance\n",
    "ax = fig.add_axes([0, 0, 1, 1])\n",
    "\n",
    "# Creating boxplot of 3 group of salaries \n",
    "plt.boxplot([stat_data, python_data, tab_data], vert = 0)\n",
    "\n",
    "# setting y-axis label \n",
    "ax.set_yticklabels(['Statistics','Python','Tableau'])\n",
    "\n",
    "# show the final plot \n",
    "plt.show()"
   ]
  },
  {
   "cell_type": "markdown",
   "id": "666eb601",
   "metadata": {},
   "source": [
    "# Interpretation:\n",
    "    Tableau subject scores are the most skewed with left skewness."
   ]
  },
  {
   "cell_type": "code",
   "execution_count": null,
   "id": "5cc5f0b3",
   "metadata": {},
   "outputs": [],
   "source": []
  },
  {
   "cell_type": "code",
   "execution_count": 49,
   "id": "2e64e76e",
   "metadata": {},
   "outputs": [
    {
     "data": {
      "image/png": "[encoded data removed]",
      "text/plain": [
       "<Figure size 800x550 with 1 Axes>"
      ]
     },
     "metadata": {},
     "output_type": "display_data"
    }
   ],
   "source": [
    "# Task 5\n",
    "\n",
    "from scipy.stats import norm\n",
    "\n",
    "# sorting data \n",
    "stat_data = sorted(stat_data)\n",
    "python_data = sorted(python_data)\n",
    "tab_data = sorted(tab_data)\n",
    "\n",
    "# calculating the mean and sd \n",
    "S_mean = st.mean(stat_data)\n",
    "S_sd = st.stdev(stat_data)\n",
    "P_mean = st.mean(python_data)\n",
    "P_sd = st.stdev(python_data)\n",
    "T_mean = st.mean(tab_data)\n",
    "T_sd = st.stdev(tab_data)\n",
    "\n",
    "# drawing the plots \n",
    "plt.plot(stat_data, norm.pdf(stat_data, S_mean, S_sd), color = 'orange', label = 'Statistics')\n",
    "plt.plot(python_data, norm.pdf(python_data, P_mean, P_sd), color = 'red', label = 'Python')\n",
    "plt.plot(tab_data, norm.pdf(tab_data, T_mean, T_sd), color = 'green', label = 'Tableau')\n",
    "\n",
    "\n",
    "plt.legend()\n",
    "plt.show()"
   ]
  },
  {
   "cell_type": "code",
   "execution_count": 53,
   "id": "f2110c19",
   "metadata": {},
   "outputs": [
    {
     "name": "stdout",
     "output_type": "stream",
     "text": [
      "Kurtosis of Statistics:  -1.2890343729055107\n",
      "Kurtosis of Python:  -1.2748529079288784\n",
      "Kurtosis of Tableau:  1.442459054422362\n"
     ]
    }
   ],
   "source": [
    "# Calculating Kurtosis of the scores of three subjects\n",
    "\n",
    "from scipy.stats import kurtosis\n",
    "\n",
    "print('Kurtosis of Statistics: ', kurtosis(stat_data))\n",
    "print('Kurtosis of Python: ', kurtosis(python_data))\n",
    "print('Kurtosis of Tableau: ', kurtosis(tab_data))"
   ]
  },
  {
   "cell_type": "markdown",
   "id": "d1b63ae9",
   "metadata": {},
   "source": [
    "## Interpretation:\n",
    "    1. As Kurtosis values are less than 3, all the subjects are low or flatter peak also called as Platykurtic.\n",
    "    2. Python score is light tailed.\n",
    "    3. Tableau score is heavy tailed. "
   ]
  },
  {
   "cell_type": "code",
   "execution_count": null,
   "id": "3fe6fb00",
   "metadata": {},
   "outputs": [],
   "source": []
  },
  {
   "cell_type": "code",
   "execution_count": null,
   "id": "f0985047",
   "metadata": {},
   "outputs": [],
   "source": []
  },
  {
   "cell_type": "code",
   "execution_count": null,
   "id": "4e36e5c0",
   "metadata": {},
   "outputs": [],
   "source": []
  },
  {
   "cell_type": "code",
   "execution_count": null,
   "id": "ebb8e365",
   "metadata": {},
   "outputs": [],
   "source": []
  },
  {
   "cell_type": "code",
   "execution_count": null,
   "id": "ef359432",
   "metadata": {},
   "outputs": [],
   "source": []
  },
  {
   "cell_type": "code",
   "execution_count": null,
   "id": "22461d68",
   "metadata": {},
   "outputs": [],
   "source": []
  },
  {
   "cell_type": "code",
   "execution_count": null,
   "id": "928328ee",
   "metadata": {},
   "outputs": [],
   "source": []
  }
 ],
 "metadata": {
  "kernelspec": {
   "display_name": "Python 3 (ipykernel)",
   "language": "python",
   "name": "python3"
  },
  "language_info": {
   "codemirror_mode": {
    "name": "ipython",
    "version": 3
   },
   "file_extension": ".py",
   "mimetype": "text/x-python",
   "name": "python",
   "nbconvert_exporter": "python",
   "pygments_lexer": "ipython3",
   "version": "3.10.9"
  }
 },
 "nbformat": 4,
 "nbformat_minor": 5
}
