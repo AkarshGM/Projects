{
 "cells": [
  {
   "cell_type": "markdown",
   "id": "5ba520b5",
   "metadata": {},
   "source": [
    "## ABC Technologies - IT Consulting"
   ]
  },
  {
   "cell_type": "code",
   "execution_count": 1,
   "id": "61561a60",
   "metadata": {},
   "outputs": [],
   "source": [
    "import numpy as np"
   ]
  },
  {
   "cell_type": "code",
   "execution_count": 8,
   "id": "9994ad70",
   "metadata": {},
   "outputs": [
    {
     "name": "stdout",
     "output_type": "stream",
     "text": [
      "HR: [1 2 3]\n",
      "IT: [ 4  5  6  7  8  9 10 11 12 13 14 15 16 17 18]\n",
      "Finance: [19 20 21 22 23]\n",
      "Sales: [24 25 26 27 28 29 30]\n"
     ]
    }
   ],
   "source": [
    "## Task 1 \n",
    "\n",
    "HR = np.arange(1,4)\n",
    "IT = np.arange(4,19)\n",
    "Finance = np.arange(19,24)\n",
    "Sales= np.arange(24,31)\n",
    "\n",
    "\n",
    "print(\"HR:\", HR)\n",
    "print(\"IT:\", IT)\n",
    "print(\"Finance:\",Finance)\n",
    "print(\"Sales:\",Sales)"
   ]
  },
  {
   "cell_type": "code",
   "execution_count": 11,
   "id": "1af02c15",
   "metadata": {},
   "outputs": [
    {
     "name": "stdout",
     "output_type": "stream",
     "text": [
      "HR Dept (Salary in thousand dollars): [50, 60, 57]\n",
      "IT Dept (Salary in thousand dollars): [67 67 67 67 67 67 67 67 67 67 67 67 67 67 67]\n",
      "Finance Dept (Salary in thousand dollars): [60, 65, 50, 70, 87]\n",
      "Sales Dept (Salary in thousand dollars): [50, 60, 65, 90, 56, 65, 71]\n"
     ]
    }
   ],
   "source": [
    "## Task 2\n",
    "\n",
    "hr_sal = [50,60,57]\n",
    "\n",
    "it = [67]\n",
    "it = it * 15\n",
    "it_sal = np.array(it)\n",
    "\n",
    "fin_sal = [60,65,50,70,87]\n",
    "\n",
    "sales_sal = [50,60,65,90,56,65,71]\n",
    "\n",
    "print(\"HR Dept (Salary in thousand dollars):\", hr_sal)\n",
    "print(\"IT Dept (Salary in thousand dollars):\", it_sal)\n",
    "print(\"Finance Dept (Salary in thousand dollars):\", fin_sal)\n",
    "print(\"Sales Dept (Salary in thousand dollars):\", sales_sal)"
   ]
  },
  {
   "cell_type": "code",
   "execution_count": 29,
   "id": "a9df5bb9",
   "metadata": {},
   "outputs": [
    {
     "name": "stdout",
     "output_type": "stream",
     "text": [
      "Average salary expense in HR Department: 55.666666666666664\n",
      "Average salary expense in IT Department: 67.0\n",
      "Average salary expense in Finance Department: 66.4\n",
      "Average salary expense in Sales Department: 65.28571428571429\n",
      "\n",
      "\n",
      "IT Department has the highest average salary expense on its employees with 67.0 thousand dollars\n"
     ]
    }
   ],
   "source": [
    "## Task 3\n",
    "\n",
    "# Dept-wise avg salary\n",
    "\n",
    "avg_hr = np.mean(hr_sal)\n",
    "print(\"Average salary expense in HR Department:\", avg_hr)\n",
    "\n",
    "avg_it = np.mean(it_sal)\n",
    "print(\"Average salary expense in IT Department:\", avg_it)\n",
    "\n",
    "avg_fin = np.mean(fin_sal)\n",
    "print(\"Average salary expense in Finance Department:\", avg_fin)\n",
    "\n",
    "avg_sales = np.mean(sales_sal)\n",
    "print(\"Average salary expense in Sales Department:\", avg_sales)\n",
    "\n",
    "print(\"\\n\\nIT Department has the highest average salary expense on its employees with\",avg_it,\"thousand dollars\")"
   ]
  },
  {
   "cell_type": "code",
   "execution_count": 34,
   "id": "7856c6a6",
   "metadata": {},
   "outputs": [
    {
     "name": "stdout",
     "output_type": "stream",
     "text": [
      "Highest salary in HR Department is: 60 thousand dollars\n",
      "Highest salary in Finance Department is: 87 thousand dollars\n"
     ]
    }
   ],
   "source": [
    "## Task 4\n",
    "\n",
    "highest_sal = np.max(hr_sal)\n",
    "print(\"Highest salary in HR Department is:\", highest_sal,\"thousand dollars\")\n",
    "\n",
    "high_sal = np.max(fin_sal)\n",
    "print(\"Highest salary in Finance Department is:\", high_sal,\"thousand dollars\")"
   ]
  },
  {
   "cell_type": "code",
   "execution_count": 46,
   "id": "f568e74d",
   "metadata": {},
   "outputs": [
    {
     "name": "stdout",
     "output_type": "stream",
     "text": [
      "The updated salary after adding 5% bonus to the gross salary of IT Dept is:\n",
      "\n",
      " [70.35 70.35 70.35 70.35 70.35 70.35 70.35 70.35 70.35 70.35 70.35 70.35\n",
      " 70.35 70.35 70.35]\n"
     ]
    }
   ],
   "source": [
    "## Task 5 \n",
    "\n",
    "New_sal = it_sal + (it_sal * 0.05)\n",
    "print(\"The updated salary after adding 5% bonus to the gross salary of IT Dept is:\\n\\n\", New_sal)"
   ]
  },
  {
   "cell_type": "code",
   "execution_count": null,
   "id": "abff78c7",
   "metadata": {},
   "outputs": [],
   "source": []
  },
  {
   "cell_type": "code",
   "execution_count": null,
   "id": "9c9d19af",
   "metadata": {},
   "outputs": [],
   "source": []
  },
  {
   "cell_type": "code",
   "execution_count": null,
   "id": "55f98515",
   "metadata": {},
   "outputs": [],
   "source": []
  }
 ],
 "metadata": {
  "kernelspec": {
   "display_name": "Python 3 (ipykernel)",
   "language": "python",
   "name": "python3"
  },
  "language_info": {
   "codemirror_mode": {
    "name": "ipython",
    "version": 3
   },
   "file_extension": ".py",
   "mimetype": "text/x-python",
   "name": "python",
   "nbconvert_exporter": "python",
   "pygments_lexer": "ipython3",
   "version": "3.9.13"
  }
 },
 "nbformat": 4,
 "nbformat_minor": 5
}
