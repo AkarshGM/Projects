{
 "cells": [
  {
   "cell_type": "markdown",
   "id": "3ebbef1d",
   "metadata": {},
   "source": [
    "## Employee Data Analysis"
   ]
  },
  {
   "cell_type": "code",
   "execution_count": 6,
   "id": "fdb6b2be",
   "metadata": {},
   "outputs": [
    {
     "name": "stdout",
     "output_type": "stream",
     "text": [
      "[[ 1. 22.]\n",
      " [ 2. 27.]\n",
      " [ 3. 31.]\n",
      " [ 4. 29.]\n",
      " [ 5. 27.]\n",
      " [ 6. 26.]\n",
      " [ 7. 27.]\n",
      " [ 8. 23.]\n",
      " [ 9. 27.]\n",
      " [10. 32.]\n",
      " [11. 28.]\n",
      " [12. 27.]\n",
      " [13. 22.]\n",
      " [14. 27.]\n",
      " [15. 35.]\n",
      " [16. 33.]\n",
      " [17. 28.]\n",
      " [18. 22.]\n",
      " [19. 25.]\n",
      " [20. 27.]\n",
      " [21. 37.]\n",
      " [22. 27.]\n",
      " [23. 24.]\n",
      " [24. 27.]\n",
      " [25. 28.]\n",
      " [26. 26.]\n",
      " [27. 27.]\n",
      " [28. 27.]\n",
      " [29. 29.]\n",
      " [30. 49.]\n",
      " [31. 26.]\n",
      " [32. 32.]\n",
      " [33. 26.]\n",
      " [34. 24.]\n",
      " [35. 24.]\n",
      " [36. 23.]\n",
      " [37. 28.]\n",
      " [38. 28.]\n",
      " [39. 22.]\n",
      " [40. 26.]\n",
      " [41. 32.]\n",
      " [42. 35.]\n",
      " [43. 33.]\n",
      " [44. 31.]\n",
      " [45. 30.]\n",
      " [46. 36.]\n",
      " [47. 22.]\n",
      " [48. 23.]\n",
      " [49. 32.]\n",
      " [50. 34.]]\n"
     ]
    }
   ],
   "source": [
    "import numpy as np\n",
    "from numpy import genfromtxt\n",
    "\n",
    "emp_data = genfromtxt('DS1_C4_S1_Employee_Data_Challenge.csv', delimiter = ',', skip_header = 1)\n",
    "print(emp_data)"
   ]
  },
  {
   "cell_type": "code",
   "execution_count": 11,
   "id": "62452fcf",
   "metadata": {},
   "outputs": [
    {
     "name": "stdout",
     "output_type": "stream",
     "text": [
      "The Average age of employees in the firm is: 28.26 Years\n"
     ]
    }
   ],
   "source": [
    "# Task 1 \n",
    "\n",
    "age = emp_data[:,1]\n",
    "avg_age = np.mean(age)\n",
    "print(\"The Average age of employees in the firm is:\", avg_age, \"Years\")"
   ]
  },
  {
   "cell_type": "code",
   "execution_count": 17,
   "id": "a0a8cd7e",
   "metadata": {},
   "outputs": [
    {
     "name": "stdout",
     "output_type": "stream",
     "text": [
      "Employee IDs:\n",
      " [ 1.  2.  3.  4.  5.  6.  7.  8.  9. 10. 11. 12. 13. 14. 15. 16. 17. 18.\n",
      " 19. 20. 21. 22. 23. 24. 25. 26. 27. 28. 29. 30. 31. 32. 33. 34. 35. 36.\n",
      " 37. 38. 39. 40. 41. 42. 43. 44. 45. 46. 47. 48. 49. 50.]\n",
      "\n",
      "\n",
      "Employee ID of employees over 25 years of age:\n",
      " [ 2.  3.  4.  5.  6.  7.  9. 10. 11. 12. 14. 15. 16. 17. 20. 21. 22. 24.\n",
      " 25. 26. 27. 28. 29. 30. 31. 32. 33. 37. 38. 40. 41. 42. 43. 44. 45. 46.\n",
      " 49. 50.]\n",
      "\n",
      "\n",
      "The total number of employees over 25 years of age is: 38\n"
     ]
    }
   ],
   "source": [
    "# Task 2\n",
    "\n",
    "emp_id = emp_data[:,0]\n",
    "print(\"Employee IDs:\\n\", emp_id)\n",
    "\n",
    "index = np.where(age >25)\n",
    "emp_over_25 = emp_id[index]\n",
    "print(\"\\n\\nEmployee ID of employees over 25 years of age:\\n\", emp_over_25)\n",
    "\n",
    "#Find the count of these employees \n",
    "\n",
    "print(\"\\n\\nThe total number of employees over 25 years of age is:\", emp_over_25.size)"
   ]
  },
  {
   "cell_type": "code",
   "execution_count": 28,
   "id": "8cef1701",
   "metadata": {},
   "outputs": [
    {
     "name": "stdout",
     "output_type": "stream",
     "text": [
      "Employee Ids of age group 30-35 Years is:\n",
      " [ 3. 10. 16. 32. 41. 43. 44. 49. 50.]\n",
      "\n",
      "\n",
      "Total number of Employees in age group 30-35 Years is: 9\n"
     ]
    }
   ],
   "source": [
    "# Task 3\n",
    "\n",
    "age_group_index = np.where((age>30) & (age<35))\n",
    "employees = emp_id[age_group_index]\n",
    "print(\"Employee Ids of age group 30-35 Years is:\\n\", employees)\n",
    "\n",
    "#Calculate total number of employees in this age group\n",
    "\n",
    "print(\"\\n\\nTotal number of Employees in age group 30-35 Years is:\", employees.size)"
   ]
  },
  {
   "cell_type": "code",
   "execution_count": null,
   "id": "23b71b5e",
   "metadata": {},
   "outputs": [],
   "source": []
  },
  {
   "cell_type": "code",
   "execution_count": null,
   "id": "4cd98ffa",
   "metadata": {},
   "outputs": [],
   "source": []
  }
 ],
 "metadata": {
  "kernelspec": {
   "display_name": "Python 3 (ipykernel)",
   "language": "python",
   "name": "python3"
  },
  "language_info": {
   "codemirror_mode": {
    "name": "ipython",
    "version": 3
   },
   "file_extension": ".py",
   "mimetype": "text/x-python",
   "name": "python",
   "nbconvert_exporter": "python",
   "pygments_lexer": "ipython3",
   "version": "3.10.9"
  }
 },
 "nbformat": 4,
 "nbformat_minor": 5
}
